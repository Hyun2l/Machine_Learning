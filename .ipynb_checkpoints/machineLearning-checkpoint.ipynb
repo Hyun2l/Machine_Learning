{
 "cells": [
  {
   "cell_type": "code",
   "execution_count": 2,
   "id": "905828cb-0e23-4068-8ccd-a4e08e208ad4",
   "metadata": {},
   "outputs": [],
   "source": [
    "import numpy as np\n",
    "import pandas as pd\n",
    "import matplotlib.pyplot as plt\n",
    "\n",
    "from skimage import io\n",
    "from sklearn.datasets import fetch_california_housing\n",
    "from sklearn.preprocessing import StandardScaler\n",
    "from sklearn.model_selection import train_test_split\n",
    "from sklearn.linear_model import LinearRegression\n",
    "from sklearn.metrics import mean_squared_error\n",
    "\n"
   ]
  },
  {
   "cell_type": "code",
   "execution_count": 5,
   "id": "498b7a63-b8bd-4db5-8ade-83fb8d8468ca",
   "metadata": {},
   "outputs": [],
   "source": [
    "A = np.array([[2,3],[4,-1],[5,6]])\n",
    "B = np.array([[5,2], [8,9],[2,1]])"
   ]
  },
  {
   "cell_type": "code",
   "execution_count": 25,
   "id": "1f0bf5b9-1537-438c-bf0f-226b193a0bf1",
   "metadata": {},
   "outputs": [
    {
     "name": "stdout",
     "output_type": "stream",
     "text": [
      "C1:\n",
      "[[ 6  9]\n",
      " [12 -3]\n",
      " [15 18]]\n",
      "C2:\n",
      "[[ 2  4  5]\n",
      " [ 3 -1  6]]\n",
      "c3:\n",
      "[[16 43  7]\n",
      " [18 23  7]\n",
      " [37 94 16]]\n"
     ]
    }
   ],
   "source": [
    "C = 3*A\n",
    "print('C1:')\n",
    "print (C)\n",
    "\n",
    "C = (A.T)\n",
    "print ('C2:')\n",
    "print (C)\n",
    "\n",
    "C = np.dot(A,B.T)\n",
    "print('c3:')\n",
    "print (C)\n"
   ]
  },
  {
   "cell_type": "code",
   "execution_count": 20,
   "id": "0ed4023a-e7ae-409e-8374-1b9cc0d8bb7e",
   "metadata": {},
   "outputs": [
    {
     "name": "stdout",
     "output_type": "stream",
     "text": [
      "mean of A:\n",
      "3.1666666666666665\n",
      "sum of A:\n",
      "19\n",
      "var of A:\n",
      "5.138888888888888\n"
     ]
    }
   ],
   "source": [
    "A = np.array([[2,3],[4,-1],[5,6]])\n",
    "# mean, sum, var\n",
    "print ('mean of A:')\n",
    "print(np.mean(A))\n",
    "print ('sum of A:')\n",
    "print (np.sum(A))\n",
    "print ('var of A:')\n",
    "print(np.var(A))\n",
    "\n",
    "#Afterwards, calculate the sum of the rows and then the columns of A. Hint, specify the parameter axis.\n",
    "\n",
    "\n",
    "\n",
    "\n",
    "\n"
   ]
  },
  {
   "cell_type": "code",
   "execution_count": null,
   "id": "32426fc0-221a-4cb4-ad28-f6b0c9ab41a6",
   "metadata": {},
   "outputs": [],
   "source": []
  },
  {
   "cell_type": "code",
   "execution_count": null,
   "id": "c1394acd-5dd1-4ec1-a787-656480e70e3b",
   "metadata": {},
   "outputs": [],
   "source": []
  }
 ],
 "metadata": {
  "kernelspec": {
   "display_name": "Python 3 (ipykernel)",
   "language": "python",
   "name": "python3"
  },
  "language_info": {
   "codemirror_mode": {
    "name": "ipython",
    "version": 3
   },
   "file_extension": ".py",
   "mimetype": "text/x-python",
   "name": "python",
   "nbconvert_exporter": "python",
   "pygments_lexer": "ipython3",
   "version": "3.11.3"
  }
 },
 "nbformat": 4,
 "nbformat_minor": 5
}
